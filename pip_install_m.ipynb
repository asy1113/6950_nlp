{
 "cells": [
  {
   "cell_type": "code",
   "execution_count": 5,
   "metadata": {},
   "outputs": [
    {
     "name": "stdout",
     "output_type": "stream",
     "text": [
      "Collecting pip\n",
      "  Downloading pip-9.0.3-py2.py3-none-any.whl (1.4MB)\n",
      "Installing collected packages: pip\n",
      "  Found existing installation: pip 9.0.1\n",
      "    Uninstalling pip-9.0.1:\n",
      "      Successfully uninstalled pip-9.0.1\n",
      "Successfully installed pip-9.0.3\n"
     ]
    }
   ],
   "source": [
    "!python -m pip install --upgrade pip"
   ]
  },
  {
   "cell_type": "code",
   "execution_count": 6,
   "metadata": {},
   "outputs": [
    {
     "name": "stdout",
     "output_type": "stream",
     "text": [
      "Collecting urllib\n"
     ]
    },
    {
     "name": "stderr",
     "output_type": "stream",
     "text": [
      "  Could not find a version that satisfies the requirement urllib (from versions: )\n",
      "No matching distribution found for urllib\n",
      "Cache entry deserialization failed, entry ignored\n"
     ]
    },
    {
     "name": "stdout",
     "output_type": "stream",
     "text": [
      "Collecting zipfile\n"
     ]
    },
    {
     "name": "stderr",
     "output_type": "stream",
     "text": [
      "  Could not find a version that satisfies the requirement zipfile (from versions: )\n",
      "No matching distribution found for zipfile\n"
     ]
    },
    {
     "name": "stdout",
     "output_type": "stream",
     "text": [
      "Requirement already satisfied: pyConTextNLP in c:\\users\\huaizhong\\anaconda3\\lib\\site-packages\n",
      "Requirement already satisfied: networkx==1.11 in c:\\users\\huaizhong\\anaconda3\\lib\\site-packages (from pyConTextNLP)\n",
      "Requirement already satisfied: decorator>=3.4.0 in c:\\users\\huaizhong\\anaconda3\\lib\\site-packages (from networkx==1.11->pyConTextNLP)\n",
      "Requirement already satisfied: textblob in c:\\users\\huaizhong\\anaconda3\\lib\\site-packages\n",
      "Requirement already satisfied: nltk>=3.1 in c:\\users\\huaizhong\\anaconda3\\lib\\site-packages (from textblob)\n",
      "Requirement already satisfied: six in c:\\users\\huaizhong\\anaconda3\\lib\\site-packages (from nltk>=3.1->textblob)\n",
      "Requirement already satisfied: radnlp in c:\\users\\huaizhong\\anaconda3\\lib\\site-packages\n",
      "Requirement already satisfied: pyConTextNLP in c:\\users\\huaizhong\\anaconda3\\lib\\site-packages (from radnlp)\n",
      "Requirement already satisfied: networkx==1.11 in c:\\users\\huaizhong\\anaconda3\\lib\\site-packages (from pyConTextNLP->radnlp)\n",
      "Requirement already satisfied: decorator>=3.4.0 in c:\\users\\huaizhong\\anaconda3\\lib\\site-packages (from networkx==1.11->pyConTextNLP->radnlp)\n"
     ]
    }
   ],
   "source": [
    "#!pip install \n",
    "\n",
    "!pip install urllib\n",
    "!pip install zipfile\n",
    "\n",
    "!pip install pyConTextNLP\n",
    "\n",
    "!pip install textblob \n",
    "!pip install radnlp\n"
   ]
  },
  {
   "cell_type": "code",
   "execution_count": 1,
   "metadata": {
    "collapsed": true
   },
   "outputs": [],
   "source": [
    "import os\n",
    "import urllib\n",
    "import zipfile\n",
    "import codecs\n",
    "import sklearn.metrics\n",
    "import pandas as pd\n",
    "import pyConTextNLP\n",
    "from pyConTextNLP import pyConTextGraph\n",
    "from textblob import TextBlob\n",
    "from radnlp.data import classrslts\n",
    "import radnlp.view as rview\n",
    "from IPython.display import display, HTML, Image\n",
    "from itemData import itemData, get_item_data"
   ]
  },
  {
   "cell_type": "code",
   "execution_count": 2,
   "metadata": {
    "collapsed": true
   },
   "outputs": [],
   "source": [
    "import platform\n",
    "\n",
    "import os\n",
    "import yaml"
   ]
  },
  {
   "cell_type": "code",
   "execution_count": 3,
   "metadata": {
    "collapsed": true
   },
   "outputs": [],
   "source": [
    "import csv\n",
    "import os\n",
    "from pyConTextNLP.utils import get_document_markups\n",
    "\n",
    "from itemData import get_item_data\n",
    "from nlp_pneumonia_utils import markup_context_document\n",
    "from visual import convertMarkups2DF"
   ]
  },
  {
   "cell_type": "code",
   "execution_count": null,
   "metadata": {
    "collapsed": true
   },
   "outputs": [],
   "source": []
  }
 ],
 "metadata": {
  "kernelspec": {
   "display_name": "Python 3",
   "language": "python",
   "name": "python3"
  },
  "language_info": {
   "codemirror_mode": {
    "name": "ipython",
    "version": 3
   },
   "file_extension": ".py",
   "mimetype": "text/x-python",
   "name": "python",
   "nbconvert_exporter": "python",
   "pygments_lexer": "ipython3",
   "version": "3.6.3"
  }
 },
 "nbformat": 4,
 "nbformat_minor": 2
}

{
 "cells": [
  {
   "cell_type": "code",
   "execution_count": 1,
   "metadata": {
    "collapsed": true
   },
   "outputs": [],
   "source": [
    "import os\n",
    "\n",
    "import re\n",
    "import nltk\n",
    "import numpy as np\n",
    "import pandas as pd\n",
    "import pickle as pkl\n",
    "from sklearn.feature_extraction.text import CountVectorizer\n",
    "from sklearn.svm import SVC\n",
    "from sklearn.model_selection import KFold\n",
    "from sklearn.metrics import roc_curve, auc\n",
    "from nltk.corpus import stopwords\n",
    "import matplotlib.pyplot as plt\n",
    "from sklearn.feature_extraction.text import TfidfVectorizer\n",
    "import string\n",
    "from sklearn.ensemble import RandomForestClassifier,ExtraTreesClassifier\n",
    "from nltk.stem.wordnet import WordNetLemmatizer\n",
    "\n",
    "import math\n",
    "import chardet\n"
   ]
  },
  {
   "cell_type": "code",
   "execution_count": null,
   "metadata": {
    "collapsed": true
   },
   "outputs": [],
   "source": []
  },
  {
   "cell_type": "code",
   "execution_count": 2,
   "metadata": {
    "scrolled": true
   },
   "outputs": [
    {
     "name": "stdout",
     "output_type": "stream",
     "text": [
      "439\n"
     ]
    }
   ],
   "source": [
    "path =\"C:/Users/hp/social/noisolation\"\n",
    " \n",
    "files = os.listdir(path)\n",
    "files\n",
    "\n",
    "note =[]\n",
    "\n",
    "for i in files[:]:\n",
    "    if \".txt\" in i:\n",
    "        with open(os.path.join(path,i), 'rb') as f:\n",
    "            result = chardet.detect(f.read()) \n",
    "        #print(i)\n",
    "        #print(result[\"encoding\"])        \n",
    "        \n",
    "        with open(os.path.join(path,i),encoding=result[\"encoding\"]) as f:\n",
    "            result = f.read()  # or readline if the file is large\n",
    "\n",
    "        note.append(result)\n",
    "#print(note)\n",
    "print(len(note))\n",
    "\n"
   ]
  },
  {
   "cell_type": "code",
   "execution_count": 3,
   "metadata": {
    "collapsed": true
   },
   "outputs": [],
   "source": [
    "social_no = pd.DataFrame({\"document\":note,\"label\":np.repeat(0,len(note))})"
   ]
  },
  {
   "cell_type": "code",
   "execution_count": 4,
   "metadata": {},
   "outputs": [
    {
     "name": "stdout",
     "output_type": "stream",
     "text": [
      "96\n"
     ]
    }
   ],
   "source": [
    "import os\n",
    "path = \"C:/Users/hp/social/isolation\"\n",
    " \n",
    "files = os.listdir(path)\n",
    "files\n",
    "\n",
    "note1=[]\n",
    "\n",
    "for i in files[:]:\n",
    "    if \".txt\" in i:\n",
    "        with open(os.path.join(path,i) ,'rb') as f:\n",
    "            result = chardet.detect(f.read()) \n",
    "        #print(i)\n",
    "        #print(result[\"encoding\"])\n",
    "\n",
    "        with open(os.path.join(path,i),encoding=result[\"encoding\"]) as f:\n",
    "            result = f.read()  # or readline if the file is large\n",
    "\n",
    "        note1.append(result)\n",
    "        \n",
    "print(len(note1))"
   ]
  },
  {
   "cell_type": "code",
   "execution_count": 5,
   "metadata": {
    "collapsed": true
   },
   "outputs": [],
   "source": [
    "social_yes = pd.DataFrame({\"document\":note1,\"label\":np.repeat(1,len(note1))})"
   ]
  },
  {
   "cell_type": "code",
   "execution_count": 6,
   "metadata": {},
   "outputs": [
    {
     "data": {
      "text/plain": [
       "'\\nall_data = social_no.append(social_yes)\\nprint(len(all_data))\\nprint(all_data[:3])\\nprint(all_data[-3:-1])\\n'"
      ]
     },
     "execution_count": 6,
     "metadata": {},
     "output_type": "execute_result"
    }
   ],
   "source": [
    "# select all 439 nosocial notes and add to all_list\n",
    "\"\"\"\n",
    "all_data = social_no.append(social_yes)\n",
    "print(len(all_data))\n",
    "print(all_data[:3])\n",
    "print(all_data[-3:-1])\n",
    "\"\"\""
   ]
  },
  {
   "cell_type": "code",
   "execution_count": 7,
   "metadata": {},
   "outputs": [
    {
     "name": "stdout",
     "output_type": "stream",
     "text": [
      "196\n",
      "                                             document  label\n",
      "6   Psychiatric Attending Daily Progress Note     ...      0\n",
      "59  Behavior Health Clinical Intake Transfer Note ...      0\n",
      "84  Psychology Progress Note     Admission Date: 9...      0\n",
      "                                             document  label\n",
      "93  Psychiatric Attending Daily Progress Note     ...      1\n",
      "94  TRANSFER OF CARE NOTE    Admission:   Please s...      1\n"
     ]
    }
   ],
   "source": [
    "# random select 100 nosocial notes and add to all_list\n",
    "\n",
    "#all_data = social_no.append(social_yes)\n",
    "\n",
    "# random choice social_no notes with the same number of social notes (96)\n",
    "\n",
    "import random\n",
    "\n",
    "s_no_select = social_no.iloc[np.random.choice(len(social_yes)+4, replace=False, size=(len(social_yes))+4)]\n",
    "\n",
    "all_data = s_no_select.append(social_yes)\n",
    "\n",
    "print(len(all_data))\n",
    "print(all_data[:3])\n",
    "print(all_data[-3:-1])\n"
   ]
  },
  {
   "cell_type": "code",
   "execution_count": 8,
   "metadata": {
    "collapsed": true
   },
   "outputs": [],
   "source": [
    "corpusList=all_data[all_data.columns[0]].tolist()\n",
    "labels=all_data[all_data.columns[1]].tolist()\n"
   ]
  },
  {
   "cell_type": "code",
   "execution_count": null,
   "metadata": {
    "collapsed": true
   },
   "outputs": [],
   "source": []
  },
  {
   "cell_type": "code",
   "execution_count": 9,
   "metadata": {
    "collapsed": true
   },
   "outputs": [],
   "source": [
    "def tokenize(text):\n",
    "    tokens = [word for sent in nltk.sent_tokenize(text) for word in nltk.word_tokenize(sent)]\n",
    "    filtered_tokens = [ token for token in tokens if re.search('(^[a-zA-Z]+$)', token) ]\n",
    "    a=[]\n",
    "    for i in filtered_tokens:\n",
    "        a.append(WordNetLemmatizer().lemmatize(i,'v'))\n",
    "    return a\n",
    "    #return filtered_tokens\n",
    "\n",
    "\n",
    "cachedStopWords = stopwords.words(\"english\")"
   ]
  },
  {
   "cell_type": "code",
   "execution_count": 10,
   "metadata": {},
   "outputs": [
    {
     "name": "stdout",
     "output_type": "stream",
     "text": [
      "(196, 77689)\n",
      "\n",
      "\n"
     ]
    }
   ],
   "source": [
    "cv = TfidfVectorizer(lowercase=True,\n",
    "                     ngram_range=(1, 3), preprocessor=None, stop_words='english',\n",
    "                     strip_accents=None, tokenizer=tokenize, vocabulary=None)\n",
    "X1 = cv.fit_transform(corpusList)\n",
    "print(X1.shape)\n",
    "print()\n",
    "lexicon = cv.get_feature_names()\n",
    "#print (lexicon)\n",
    "print()"
   ]
  },
  {
   "cell_type": "code",
   "execution_count": null,
   "metadata": {
    "collapsed": true,
    "scrolled": true
   },
   "outputs": [],
   "source": []
  },
  {
   "cell_type": "code",
   "execution_count": 11,
   "metadata": {
    "scrolled": false
   },
   "outputs": [
    {
     "name": "stdout",
     "output_type": "stream",
     "text": [
      "(196, 77689)\n"
     ]
    },
    {
     "data": {
      "text/plain": [
       "array([0, 0, 0, 0, 0, 0, 0, 0, 0, 0, 0, 0, 0, 0, 0, 0, 0, 0, 0, 0, 0, 0, 0,\n",
       "       0, 0, 0, 0, 0, 0, 0, 0, 0, 0, 0, 0, 0, 0, 0, 0, 0, 0, 0, 0, 0, 0, 0,\n",
       "       0, 0, 0, 0, 0, 0, 0, 0, 0, 0, 0, 0, 0, 0, 0, 0, 0, 0, 0, 0, 0, 0, 0,\n",
       "       0, 0, 0, 0, 0, 0, 0, 0, 0, 0, 0, 0, 0, 0, 0, 0, 0, 0, 0, 0, 0, 0, 0,\n",
       "       0, 0, 0, 0, 0, 0, 0, 0, 1, 1, 1, 1, 1, 1, 1, 1, 1, 1, 1, 1, 1, 1, 1,\n",
       "       1, 1, 1, 1, 1, 1, 1, 1, 1, 1, 1, 1, 1, 1, 1, 1, 1, 1, 1, 1, 1, 1, 1,\n",
       "       1, 1, 1, 1, 1, 1, 1, 1, 1, 1, 1, 1, 1, 1, 1, 1, 1, 1, 1, 1, 1, 1, 1,\n",
       "       1, 1, 1, 1, 1, 1, 1, 1, 1, 1, 1, 1, 1, 1, 1, 1, 1, 1, 1, 1, 1, 1, 1,\n",
       "       1, 1, 1, 1, 1, 1, 1, 1, 1, 1, 1, 1])"
      ]
     },
     "execution_count": 11,
     "metadata": {},
     "output_type": "execute_result"
    }
   ],
   "source": [
    "x=X1  ## for select fetures \n",
    "print(x.shape)\n",
    "\n",
    "Y = np.array(labels)\n",
    "Y  ## class level \n"
   ]
  },
  {
   "cell_type": "code",
   "execution_count": 12,
   "metadata": {},
   "outputs": [
    {
     "name": "stdout",
     "output_type": "stream",
     "text": [
      "(196, 77689)\n"
     ]
    },
    {
     "data": {
      "text/plain": [
       "(196, 600)"
      ]
     },
     "execution_count": 12,
     "metadata": {},
     "output_type": "execute_result"
    }
   ],
   "source": [
    "from sklearn.feature_selection import SelectKBest\n",
    "from sklearn.feature_selection import chi2\n",
    "\n",
    "print(x.shape)\n",
    "\n",
    "X_new = SelectKBest(chi2, k=600).fit_transform(x, Y)   # select 400 features\n",
    "X_new.shape\n"
   ]
  },
  {
   "cell_type": "code",
   "execution_count": 13,
   "metadata": {},
   "outputs": [
    {
     "data": {
      "text/plain": [
       "(196, 600)"
      ]
     },
     "execution_count": 13,
     "metadata": {},
     "output_type": "execute_result"
    }
   ],
   "source": [
    "X=X_new        # make unque name for next cell \n",
    "X_new.shape"
   ]
  },
  {
   "cell_type": "code",
   "execution_count": 14,
   "metadata": {},
   "outputs": [
    {
     "data": {
      "text/plain": [
       "'ExtraTreesClassifier'"
      ]
     },
     "execution_count": 14,
     "metadata": {},
     "output_type": "execute_result"
    }
   ],
   "source": [
    "\"ExtraTreesClassifier\""
   ]
  },
  {
   "cell_type": "code",
   "execution_count": 15,
   "metadata": {},
   "outputs": [
    {
     "name": "stdout",
     "output_type": "stream",
     "text": [
      "model  0 : ExtraTreesClassifier = 10\n",
      "   Fold 1 accuracy: 60.00 %\n",
      "   Fold 2 accuracy: 65.00 %\n",
      "   Fold 3 accuracy: 75.00 %\n",
      "   Fold 4 accuracy: 75.00 %\n",
      "   Fold 5 accuracy: 70.00 %\n",
      "   Fold 6 accuracy: 75.00 %\n",
      "   Fold 7 accuracy: 68.42 %\n",
      "   Fold 8 accuracy: 84.21 %\n",
      "   Fold 9 accuracy: 52.63 %\n",
      "   Fold 10 accuracy: 84.21 %\n",
      "     Overall test accuracy: 70.92 %\n",
      "     Overall training accuracy: 100.00 %\n",
      "model  1 : ExtraTreesClassifier = 30\n",
      "   Fold 1 accuracy: 70.00 %\n",
      "   Fold 2 accuracy: 65.00 %\n",
      "   Fold 3 accuracy: 80.00 %\n",
      "   Fold 4 accuracy: 70.00 %\n",
      "   Fold 5 accuracy: 80.00 %\n",
      "   Fold 6 accuracy: 90.00 %\n",
      "   Fold 7 accuracy: 78.95 %\n",
      "   Fold 8 accuracy: 84.21 %\n",
      "   Fold 9 accuracy: 68.42 %\n",
      "   Fold 10 accuracy: 68.42 %\n",
      "     Overall test accuracy: 75.51 %\n",
      "     Overall training accuracy: 100.00 %\n",
      "model  2 : ExtraTreesClassifier = 60\n",
      "   Fold 1 accuracy: 70.00 %\n",
      "   Fold 2 accuracy: 80.00 %\n",
      "   Fold 3 accuracy: 80.00 %\n",
      "   Fold 4 accuracy: 70.00 %\n",
      "   Fold 5 accuracy: 75.00 %\n",
      "   Fold 6 accuracy: 80.00 %\n",
      "   Fold 7 accuracy: 73.68 %\n",
      "   Fold 8 accuracy: 68.42 %\n",
      "   Fold 9 accuracy: 68.42 %\n",
      "   Fold 10 accuracy: 89.47 %\n",
      "     Overall test accuracy: 75.51 %\n",
      "     Overall training accuracy: 100.00 %\n",
      "model  3 : ExtraTreesClassifier = 100\n",
      "   Fold 1 accuracy: 60.00 %\n",
      "   Fold 2 accuracy: 85.00 %\n",
      "   Fold 3 accuracy: 85.00 %\n",
      "   Fold 4 accuracy: 75.00 %\n",
      "   Fold 5 accuracy: 70.00 %\n",
      "   Fold 6 accuracy: 85.00 %\n",
      "   Fold 7 accuracy: 84.21 %\n",
      "   Fold 8 accuracy: 68.42 %\n",
      "   Fold 9 accuracy: 78.95 %\n",
      "   Fold 10 accuracy: 84.21 %\n",
      "     Overall test accuracy: 77.55 %\n",
      "     Overall training accuracy: 100.00 %\n",
      "model  4 : ExtraTreesClassifier = 300\n",
      "   Fold 1 accuracy: 55.00 %\n",
      "   Fold 2 accuracy: 75.00 %\n",
      "   Fold 3 accuracy: 90.00 %\n",
      "   Fold 4 accuracy: 80.00 %\n",
      "   Fold 5 accuracy: 90.00 %\n",
      "   Fold 6 accuracy: 85.00 %\n",
      "   Fold 7 accuracy: 63.16 %\n",
      "   Fold 8 accuracy: 68.42 %\n",
      "   Fold 9 accuracy: 63.16 %\n",
      "   Fold 10 accuracy: 63.16 %\n",
      "     Overall test accuracy: 73.47 %\n",
      "     Overall training accuracy: 100.00 %\n",
      "model  5 : ExtraTreesClassifier = 500\n",
      "   Fold 1 accuracy: 75.00 %\n",
      "   Fold 2 accuracy: 75.00 %\n",
      "   Fold 3 accuracy: 75.00 %\n",
      "   Fold 4 accuracy: 60.00 %\n",
      "   Fold 5 accuracy: 80.00 %\n",
      "   Fold 6 accuracy: 70.00 %\n",
      "   Fold 7 accuracy: 78.95 %\n",
      "   Fold 8 accuracy: 63.16 %\n",
      "   Fold 9 accuracy: 78.95 %\n",
      "   Fold 10 accuracy: 63.16 %\n",
      "     Overall test accuracy: 71.94 %\n",
      "     Overall training accuracy: 100.00 %\n"
     ]
    }
   ],
   "source": [
    "model=0\n",
    "results = []\n",
    "cont = []\n",
    "kf = KFold(n_splits=10, shuffle=True)\n",
    "trees = [10, 30, 60, 100, 300, 500]\n",
    "for t in range(len(trees)):\n",
    "    fold = 1\n",
    "    truth = []\n",
    "    rf_prediction = []\n",
    "    print(\"model \", t, \": ExtraTreesClassifier = \" + str(trees[t]))\n",
    "    test_count = 0\n",
    "    rf = ExtraTreesClassifier(bootstrap=False,\n",
    "           criterion='entropy', max_depth=15, max_features=0.9,\n",
    "           max_leaf_nodes=None, min_impurity_decrease=1e-045,\n",
    "           min_samples_leaf=1, min_samples_split=3,\n",
    "           min_weight_fraction_leaf=0.0, n_estimators=trees[t], n_jobs=-1,\n",
    "           oob_score=False, random_state=None, verbose=0, warm_start=False)\n",
    "    for train_idx, test_idx in kf.split(X):\n",
    "        trainX = X[train_idx]\n",
    "        trainY = Y[train_idx]\n",
    "        testX = X[test_idx]\n",
    "        testY = Y[test_idx]\n",
    "        truth.append(testY)\n",
    "        rf.fit(trainX, trainY)\n",
    "        Y_hat = rf.predict(testX)\n",
    "        rf_prediction.append(Y_hat)\n",
    "        print(\"   Fold %d accuracy: %.2f %%\" % (fold, ((np.sum(Y_hat == testY)/len(testY)) * 100.0)))                        \n",
    "        fold += 1\n",
    "    truth = np.concatenate(truth, axis=0)    \n",
    "    rf_prediction = np.concatenate(rf_prediction, axis=0)\n",
    "    test_results = np.sum(rf_prediction == truth)/len(truth)\n",
    "    print(\"     Overall test accuracy: %.2f %%\" % (test_results * 100))  \n",
    "    rf = rf.fit(X, Y)\n",
    "    Y_hat = rf.predict(X)\n",
    "    train_results = np.sum(Y_hat == Y)/len(Y)\n",
    "    print(\"     Overall training accuracy: %.2f %%\" % (train_results * 100.0))  \n",
    "    results.append([train_results, test_results])   \n",
    "    cont.append([truth, rf_prediction])\n",
    "    \n",
    "    \n",
    "    \n",
    "### this case is not 88%, it will be a liitle bit diffenet. but not too much "
   ]
  },
  {
   "cell_type": "code",
   "execution_count": 16,
   "metadata": {},
   "outputs": [
    {
     "name": "stdout",
     "output_type": "stream",
     "text": [
      "Enter Best Model: 3\n",
      "\n",
      "ExtraTrees\n",
      "         no  social  Total\n",
      "no       83      27    110\n",
      "social   17      69     86\n",
      "Total   100      96    196\n",
      "\n"
     ]
    }
   ],
   "source": [
    "model = input(\"Enter Best Model: \")\n",
    "best = cont[int(model)]\n",
    "rf_ct = pd.crosstab(best[1], best[0], margins=True)\n",
    "rf_ct.columns = [\"no\", \"social\", \"Total\"]\n",
    "rf_ct.index = [\"no\", \"social\", \"Total\"]\n",
    "print()\n",
    "print(\"ExtraTrees\")\n",
    "print(rf_ct)\n",
    "print()"
   ]
  },
  {
   "cell_type": "code",
   "execution_count": 17,
   "metadata": {},
   "outputs": [
    {
     "name": "stdout",
     "output_type": "stream",
     "text": [
      "[[83 17]\n",
      " [27 69]]\n",
      "0.758241758242\n",
      "0.71875\n",
      "0.802325581395\n",
      "0.775510204082\n",
      "             precision    recall  f1-score   support\n",
      "\n",
      "          0       0.75      0.83      0.79       100\n",
      "          1       0.80      0.72      0.76        96\n",
      "\n",
      "avg / total       0.78      0.78      0.77       196\n",
      "\n"
     ]
    }
   ],
   "source": [
    "from sklearn.metrics import confusion_matrix\n",
    "from sklearn.metrics import recall_score,f1_score,precision_score,accuracy_score,classification_report\n",
    "y_true =cont[int(model)][0]\n",
    "y_pred = cont[int(model)][1]\n",
    "print(confusion_matrix(y_true, y_pred))\n",
    "print(f1_score(y_true, y_pred) )\n",
    "\n",
    "\n",
    "\n",
    "print(recall_score(y_true, y_pred),   )\n",
    "print(precision_score(y_true, y_pred))\n",
    "print(accuracy_score(y_true, y_pred))\n",
    "\n",
    "print(classification_report(y_true, y_pred))\n"
   ]
  },
  {
   "cell_type": "code",
   "execution_count": 18,
   "metadata": {},
   "outputs": [
    {
     "name": "stdout",
     "output_type": "stream",
     "text": [
      "ExtraTrees: Sensitivity: 0.71875 Specificity: 0.83000 PPV: 0.80233 NPV: 0.75455 Accuracy: 0.77551\n"
     ]
    }
   ],
   "source": [
    "Sens = rf_ct.iloc[1][1]/rf_ct.iloc[2][1]\n",
    "Spec = rf_ct.iloc[0][0]/rf_ct.iloc[2][0]\n",
    "PPV = rf_ct.iloc[1][1]/rf_ct.iloc[1][2]\n",
    "NPV = rf_ct.iloc[0][0]/rf_ct.iloc[0][2]\n",
    "ACC = (rf_ct.iloc[0][0] + rf_ct.iloc[1][1]) / rf_ct.iloc[2][2]\n",
    "print(\"ExtraTrees: Sensitivity: %.5f Specificity: %.5f PPV: %.5f NPV: %.5f Accuracy: %.5f\" % (Sens, Spec, PPV, NPV, ACC))"
   ]
  },
  {
   "cell_type": "code",
   "execution_count": 19,
   "metadata": {},
   "outputs": [
    {
     "data": {
      "image/png": "[encoded data removed]",
      "text/plain": [
       "<matplotlib.figure.Figure at 0x27b9693cba8>"
      ]
     },
     "metadata": {},
     "output_type": "display_data"
    },
    {
     "name": "stdout",
     "output_type": "stream",
     "text": [
      "AUC =  0.774375\n"
     ]
    }
   ],
   "source": [
    "\n",
    "rf_fpr, rf_tpr, rf_thresholds = roc_curve(best[0], best[1], pos_label=1)\n",
    "roc_auc = auc(rf_fpr, rf_tpr)\n",
    "plt.figure(1)\n",
    "plt.plot([0, 1], [0, 1], 'k--')\n",
    "plt.plot(rf_fpr, rf_tpr, label='ExtraTrees')\n",
    "plt.xlabel('False positive rate (1 - Specificity)')\n",
    "plt.ylabel('True Positive Rate (Sensitivity)')\n",
    "plt.title('ROC curve')\n",
    "plt.legend(loc='best')\n",
    "plt.show()\n",
    "print(\"AUC = \", roc_auc)"
   ]
  },
  {
   "cell_type": "code",
   "execution_count": 20,
   "metadata": {},
   "outputs": [
    {
     "data": {
      "text/plain": [
       "'SVM'"
      ]
     },
     "execution_count": 20,
     "metadata": {},
     "output_type": "execute_result"
    }
   ],
   "source": [
    "\"SVM\""
   ]
  },
  {
   "cell_type": "code",
   "execution_count": 21,
   "metadata": {},
   "outputs": [
    {
     "name": "stdout",
     "output_type": "stream",
     "text": [
      "model 0: SVM RBF Gamma=1.000 C=1.00\n",
      "   Fold 1 accuracy: 85.00 %\n",
      "   Fold 2 accuracy: 80.00 %\n",
      "   Fold 3 accuracy: 65.00 %\n",
      "   Fold 4 accuracy: 75.00 %\n",
      "   Fold 5 accuracy: 55.00 %\n",
      "   Fold 6 accuracy: 60.00 %\n",
      "   Fold 7 accuracy: 73.68 %\n",
      "   Fold 8 accuracy: 73.68 %\n",
      "   Fold 9 accuracy: 52.63 %\n",
      "   Fold 10 accuracy: 73.68 %\n",
      "     Overall test accuracy: 69.39 %\n",
      "     Overall training accuracy: 76.02 %\n",
      "model 1: SVM RBF Gamma=1.000 C=2.00\n",
      "   Fold 1 accuracy: 80.00 %\n",
      "   Fold 2 accuracy: 55.00 %\n",
      "   Fold 3 accuracy: 80.00 %\n",
      "   Fold 4 accuracy: 80.00 %\n",
      "   Fold 5 accuracy: 60.00 %\n",
      "   Fold 6 accuracy: 55.00 %\n",
      "   Fold 7 accuracy: 78.95 %\n",
      "   Fold 8 accuracy: 68.42 %\n",
      "   Fold 9 accuracy: 84.21 %\n",
      "   Fold 10 accuracy: 63.16 %\n",
      "     Overall test accuracy: 70.41 %\n",
      "     Overall training accuracy: 79.08 %\n",
      "model 2: SVM RBF Gamma=1.000 C=4.00\n",
      "   Fold 1 accuracy: 55.00 %\n",
      "   Fold 2 accuracy: 80.00 %\n",
      "   Fold 3 accuracy: 70.00 %\n",
      "   Fold 4 accuracy: 55.00 %\n",
      "   Fold 5 accuracy: 60.00 %\n",
      "   Fold 6 accuracy: 65.00 %\n",
      "   Fold 7 accuracy: 57.89 %\n",
      "   Fold 8 accuracy: 89.47 %\n",
      "   Fold 9 accuracy: 78.95 %\n",
      "   Fold 10 accuracy: 100.00 %\n",
      "     Overall test accuracy: 70.92 %\n",
      "     Overall training accuracy: 87.24 %\n",
      "model 3: SVM RBF Gamma=1.000 C=6.00\n",
      "   Fold 1 accuracy: 55.00 %\n",
      "   Fold 2 accuracy: 90.00 %\n",
      "   Fold 3 accuracy: 80.00 %\n",
      "   Fold 4 accuracy: 50.00 %\n",
      "   Fold 5 accuracy: 90.00 %\n",
      "   Fold 6 accuracy: 70.00 %\n",
      "   Fold 7 accuracy: 84.21 %\n",
      "   Fold 8 accuracy: 73.68 %\n",
      "   Fold 9 accuracy: 84.21 %\n",
      "   Fold 10 accuracy: 63.16 %\n",
      "     Overall test accuracy: 73.98 %\n",
      "     Overall training accuracy: 91.84 %\n",
      "model 4: SVM RBF Gamma=1.000 C=8.00\n",
      "   Fold 1 accuracy: 80.00 %\n",
      "   Fold 2 accuracy: 65.00 %\n",
      "   Fold 3 accuracy: 85.00 %\n",
      "   Fold 4 accuracy: 70.00 %\n",
      "   Fold 5 accuracy: 65.00 %\n",
      "   Fold 6 accuracy: 70.00 %\n",
      "   Fold 7 accuracy: 68.42 %\n",
      "   Fold 8 accuracy: 84.21 %\n",
      "   Fold 9 accuracy: 78.95 %\n",
      "   Fold 10 accuracy: 73.68 %\n",
      "     Overall test accuracy: 73.98 %\n",
      "     Overall training accuracy: 92.35 %\n",
      "model 5: SVM RBF Gamma=1.000 C=10.00\n",
      "   Fold 1 accuracy: 85.00 %\n",
      "   Fold 2 accuracy: 85.00 %\n",
      "   Fold 3 accuracy: 70.00 %\n",
      "   Fold 4 accuracy: 60.00 %\n",
      "   Fold 5 accuracy: 80.00 %\n",
      "   Fold 6 accuracy: 85.00 %\n",
      "   Fold 7 accuracy: 63.16 %\n",
      "   Fold 8 accuracy: 84.21 %\n",
      "   Fold 9 accuracy: 73.68 %\n",
      "   Fold 10 accuracy: 63.16 %\n",
      "     Overall test accuracy: 75.00 %\n",
      "     Overall training accuracy: 93.37 %\n",
      "model 6: SVM RBF Gamma=2.000 C=1.00\n",
      "   Fold 1 accuracy: 70.00 %\n",
      "   Fold 2 accuracy: 75.00 %\n",
      "   Fold 3 accuracy: 80.00 %\n",
      "   Fold 4 accuracy: 65.00 %\n",
      "   Fold 5 accuracy: 45.00 %\n",
      "   Fold 6 accuracy: 70.00 %\n",
      "   Fold 7 accuracy: 94.74 %\n",
      "   Fold 8 accuracy: 73.68 %\n",
      "   Fold 9 accuracy: 68.42 %\n",
      "   Fold 10 accuracy: 68.42 %\n",
      "     Overall test accuracy: 70.92 %\n",
      "     Overall training accuracy: 78.57 %\n",
      "model 7: SVM RBF Gamma=2.000 C=2.00\n",
      "   Fold 1 accuracy: 80.00 %\n",
      "   Fold 2 accuracy: 75.00 %\n",
      "   Fold 3 accuracy: 75.00 %\n",
      "   Fold 4 accuracy: 70.00 %\n",
      "   Fold 5 accuracy: 80.00 %\n",
      "   Fold 6 accuracy: 60.00 %\n",
      "   Fold 7 accuracy: 52.63 %\n",
      "   Fold 8 accuracy: 68.42 %\n",
      "   Fold 9 accuracy: 78.95 %\n",
      "   Fold 10 accuracy: 68.42 %\n",
      "     Overall test accuracy: 70.92 %\n",
      "     Overall training accuracy: 85.71 %\n",
      "model 8: SVM RBF Gamma=2.000 C=4.00\n",
      "   Fold 1 accuracy: 75.00 %\n",
      "   Fold 2 accuracy: 70.00 %\n",
      "   Fold 3 accuracy: 70.00 %\n",
      "   Fold 4 accuracy: 65.00 %\n",
      "   Fold 5 accuracy: 90.00 %\n",
      "   Fold 6 accuracy: 85.00 %\n",
      "   Fold 7 accuracy: 84.21 %\n",
      "   Fold 8 accuracy: 52.63 %\n",
      "   Fold 9 accuracy: 78.95 %\n",
      "   Fold 10 accuracy: 68.42 %\n",
      "     Overall test accuracy: 73.98 %\n",
      "     Overall training accuracy: 92.35 %\n",
      "model 9: SVM RBF Gamma=2.000 C=6.00\n",
      "   Fold 1 accuracy: 85.00 %\n",
      "   Fold 2 accuracy: 80.00 %\n",
      "   Fold 3 accuracy: 80.00 %\n",
      "   Fold 4 accuracy: 75.00 %\n",
      "   Fold 5 accuracy: 80.00 %\n",
      "   Fold 6 accuracy: 60.00 %\n",
      "   Fold 7 accuracy: 78.95 %\n",
      "   Fold 8 accuracy: 78.95 %\n",
      "   Fold 9 accuracy: 63.16 %\n",
      "   Fold 10 accuracy: 73.68 %\n",
      "     Overall test accuracy: 75.51 %\n",
      "     Overall training accuracy: 93.88 %\n",
      "model 10: SVM RBF Gamma=2.000 C=8.00\n",
      "   Fold 1 accuracy: 85.00 %\n",
      "   Fold 2 accuracy: 80.00 %\n",
      "   Fold 3 accuracy: 85.00 %\n",
      "   Fold 4 accuracy: 90.00 %\n",
      "   Fold 5 accuracy: 70.00 %\n",
      "   Fold 6 accuracy: 75.00 %\n",
      "   Fold 7 accuracy: 84.21 %\n",
      "   Fold 8 accuracy: 84.21 %\n",
      "   Fold 9 accuracy: 36.84 %\n",
      "   Fold 10 accuracy: 78.95 %\n",
      "     Overall test accuracy: 77.04 %\n",
      "     Overall training accuracy: 95.41 %\n",
      "model 11: SVM RBF Gamma=2.000 C=10.00\n",
      "   Fold 1 accuracy: 75.00 %\n",
      "   Fold 2 accuracy: 95.00 %\n",
      "   Fold 3 accuracy: 70.00 %\n",
      "   Fold 4 accuracy: 75.00 %\n",
      "   Fold 5 accuracy: 65.00 %\n",
      "   Fold 6 accuracy: 95.00 %\n",
      "   Fold 7 accuracy: 63.16 %\n",
      "   Fold 8 accuracy: 68.42 %\n",
      "   Fold 9 accuracy: 84.21 %\n",
      "   Fold 10 accuracy: 78.95 %\n",
      "     Overall test accuracy: 77.04 %\n",
      "     Overall training accuracy: 96.94 %\n"
     ]
    }
   ],
   "source": [
    "model = 0\n",
    "cont = []\n",
    "results = pd.DataFrame(columns=('name', 'accuracy'))\n",
    "kf = KFold(n_splits=10, shuffle=True)\n",
    "C = [1,2,4,6,8,10]\n",
    "gamma = [1,2]  \n",
    "for g in range(len(gamma)):\n",
    "    acc = []\n",
    "    name = \"SVM RBF Gamma=%.3f\" % (gamma[g])     \n",
    "    for c in range(len(C)):\n",
    "        fold = 1\n",
    "        truth = []\n",
    "        svm_prediction = []\n",
    "        print(\"model %d: SVM RBF Gamma=%.3f C=%.2f\" % (model, gamma[g], C[c]))        \n",
    "        test_count = 0\n",
    "        svm = SVC(C=C[c], kernel='rbf', gamma=gamma[g])\n",
    "        for train_idx, test_idx in kf.split(X):\n",
    "            trainX = X[train_idx]\n",
    "            trainY = Y[train_idx]\n",
    "            testX = X[test_idx]\n",
    "            testY = Y[test_idx]\n",
    "            truth.append(testY)\n",
    "            svm.fit(trainX, trainY)\n",
    "            Y_hat = svm.predict(testX)\n",
    "            svm_prediction.append(Y_hat)\n",
    "            print(\"   Fold %d accuracy: %.2f %%\" % (fold, ((np.sum(Y_hat == testY)/len(testY)) * 100.0)))                        \n",
    "            fold += 1\n",
    "        truth = np.concatenate(truth, axis=0)    \n",
    "        svm_prediction = np.concatenate(svm_prediction, axis=0)\n",
    "        test_results = np.sum(svm_prediction == truth)/len(truth)\n",
    "        print(\"     Overall test accuracy: %.2f %%\" % (test_results * 100))  \n",
    "        svm = svm.fit(X, Y)\n",
    "        Y_hat = svm.predict(X)\n",
    "        train_results = np.sum(Y_hat == Y)/len(Y)\n",
    "        print(\"     Overall training accuracy: %.2f %%\" % (train_results * 100.0))  \n",
    "        acc.append([train_results, test_results])   \n",
    "        cont.append([truth, svm_prediction])\n",
    "        model += 1\n",
    "    results = results.append({'name': name, 'accuracy' : acc}, ignore_index=True)\n"
   ]
  },
  {
   "cell_type": "code",
   "execution_count": 22,
   "metadata": {},
   "outputs": [
    {
     "name": "stdout",
     "output_type": "stream",
     "text": [
      "Enter Best Model: 11\n",
      "\n",
      "SVM\n",
      "         no  social  Total\n",
      "no       83      28    111\n",
      "social   17      68     85\n",
      "Total   100      96    196\n",
      "\n"
     ]
    }
   ],
   "source": [
    "model = input(\"Enter Best Model: \")\n",
    "best = cont[int(model)]\n",
    "rf_ct = pd.crosstab(best[1], best[0], margins=True)\n",
    "rf_ct.columns = [\"no\", \"social\", \"Total\"]\n",
    "rf_ct.index = [\"no\", \"social\", \"Total\"]\n",
    "print()\n",
    "print(\"SVM\")\n",
    "print(rf_ct)\n",
    "print()"
   ]
  },
  {
   "cell_type": "code",
   "execution_count": 23,
   "metadata": {},
   "outputs": [
    {
     "name": "stdout",
     "output_type": "stream",
     "text": [
      "Random Forest: Sensitivity: 0.70833 Specificity: 0.83000 PPV: 0.80000 NPV: 0.74775 Accuracy: 0.77041\n"
     ]
    }
   ],
   "source": [
    "Sens = rf_ct.iloc[1][1]/rf_ct.iloc[2][1]\n",
    "Spec = rf_ct.iloc[0][0]/rf_ct.iloc[2][0]\n",
    "PPV = rf_ct.iloc[1][1]/rf_ct.iloc[1][2]\n",
    "NPV = rf_ct.iloc[0][0]/rf_ct.iloc[0][2]\n",
    "ACC = (rf_ct.iloc[0][0] + rf_ct.iloc[1][1]) / rf_ct.iloc[2][2]\n",
    "print(\"Random Forest: Sensitivity: %.5f Specificity: %.5f PPV: %.5f NPV: %.5f Accuracy: %.5f\" % (Sens, Spec, PPV, NPV, ACC))"
   ]
  },
  {
   "cell_type": "code",
   "execution_count": 24,
   "metadata": {},
   "outputs": [
    {
     "name": "stdout",
     "output_type": "stream",
     "text": [
      "[[83 17]\n",
      " [28 68]]\n",
      "0.75138121547\n",
      "0.708333333333\n",
      "0.8\n",
      "0.770408163265\n",
      "             precision    recall  f1-score   support\n",
      "\n",
      "          0       0.75      0.83      0.79       100\n",
      "          1       0.80      0.71      0.75        96\n",
      "\n",
      "avg / total       0.77      0.77      0.77       196\n",
      "\n"
     ]
    }
   ],
   "source": [
    "from sklearn.metrics import confusion_matrix\n",
    "from sklearn.metrics import recall_score,f1_score,precision_score,accuracy_score,classification_report\n",
    "y_true =cont[int(model)][0]\n",
    "y_pred = cont[int(model)][1]\n",
    "print(confusion_matrix(y_true, y_pred))\n",
    "print(f1_score(y_true, y_pred) )\n",
    "\n",
    "\n",
    "\n",
    "print(recall_score(y_true, y_pred),   )\n",
    "print(precision_score(y_true, y_pred))\n",
    "print(accuracy_score(y_true, y_pred))\n",
    "\n",
    "print(classification_report(y_true, y_pred))"
   ]
  },
  {
   "cell_type": "code",
   "execution_count": 25,
   "metadata": {},
   "outputs": [
    {
     "data": {
      "text/plain": [
       "'RandomForest'"
      ]
     },
     "execution_count": 25,
     "metadata": {},
     "output_type": "execute_result"
    }
   ],
   "source": [
    "\"RandomForest\""
   ]
  },
  {
   "cell_type": "code",
   "execution_count": 26,
   "metadata": {},
   "outputs": [
    {
     "name": "stdout",
     "output_type": "stream",
     "text": [
      "model  0 : Random Forest trees = 5\n",
      "   Fold 1 accuracy: 70.00 %\n",
      "   Fold 2 accuracy: 65.00 %\n",
      "   Fold 3 accuracy: 65.00 %\n",
      "   Fold 4 accuracy: 75.00 %\n",
      "   Fold 5 accuracy: 90.00 %\n",
      "   Fold 6 accuracy: 80.00 %\n",
      "   Fold 7 accuracy: 78.95 %\n",
      "   Fold 8 accuracy: 57.89 %\n",
      "   Fold 9 accuracy: 89.47 %\n",
      "   Fold 10 accuracy: 73.68 %\n",
      "     Overall test accuracy: 74.49 %\n",
      "     Overall training accuracy: 97.45 %\n",
      "model  1 : Random Forest trees = 10\n",
      "   Fold 1 accuracy: 85.00 %\n",
      "   Fold 2 accuracy: 80.00 %\n",
      "   Fold 3 accuracy: 60.00 %\n",
      "   Fold 4 accuracy: 65.00 %\n",
      "   Fold 5 accuracy: 80.00 %\n",
      "   Fold 6 accuracy: 75.00 %\n",
      "   Fold 7 accuracy: 84.21 %\n",
      "   Fold 8 accuracy: 68.42 %\n",
      "   Fold 9 accuracy: 68.42 %\n",
      "   Fold 10 accuracy: 73.68 %\n",
      "     Overall test accuracy: 73.98 %\n",
      "     Overall training accuracy: 97.96 %\n",
      "model  2 : Random Forest trees = 50\n",
      "   Fold 1 accuracy: 70.00 %\n",
      "   Fold 2 accuracy: 90.00 %\n",
      "   Fold 3 accuracy: 90.00 %\n",
      "   Fold 4 accuracy: 75.00 %\n",
      "   Fold 5 accuracy: 65.00 %\n",
      "   Fold 6 accuracy: 65.00 %\n",
      "   Fold 7 accuracy: 89.47 %\n",
      "   Fold 8 accuracy: 78.95 %\n",
      "   Fold 9 accuracy: 78.95 %\n",
      "   Fold 10 accuracy: 68.42 %\n",
      "     Overall test accuracy: 77.04 %\n",
      "     Overall training accuracy: 100.00 %\n",
      "model  3 : Random Forest trees = 100\n",
      "   Fold 1 accuracy: 75.00 %\n",
      "   Fold 2 accuracy: 70.00 %\n",
      "   Fold 3 accuracy: 90.00 %\n",
      "   Fold 4 accuracy: 85.00 %\n",
      "   Fold 5 accuracy: 85.00 %\n",
      "   Fold 6 accuracy: 65.00 %\n",
      "   Fold 7 accuracy: 78.95 %\n",
      "   Fold 8 accuracy: 73.68 %\n",
      "   Fold 9 accuracy: 63.16 %\n",
      "   Fold 10 accuracy: 68.42 %\n",
      "     Overall test accuracy: 75.51 %\n",
      "     Overall training accuracy: 100.00 %\n",
      "model  4 : Random Forest trees = 200\n",
      "   Fold 1 accuracy: 75.00 %\n",
      "   Fold 2 accuracy: 85.00 %\n",
      "   Fold 3 accuracy: 85.00 %\n",
      "   Fold 4 accuracy: 80.00 %\n",
      "   Fold 5 accuracy: 60.00 %\n",
      "   Fold 6 accuracy: 70.00 %\n",
      "   Fold 7 accuracy: 47.37 %\n",
      "   Fold 8 accuracy: 78.95 %\n",
      "   Fold 9 accuracy: 84.21 %\n",
      "   Fold 10 accuracy: 73.68 %\n",
      "     Overall test accuracy: 73.98 %\n",
      "     Overall training accuracy: 100.00 %\n",
      "model  5 : Random Forest trees = 300\n",
      "   Fold 1 accuracy: 75.00 %\n",
      "   Fold 2 accuracy: 80.00 %\n",
      "   Fold 3 accuracy: 70.00 %\n",
      "   Fold 4 accuracy: 70.00 %\n",
      "   Fold 5 accuracy: 90.00 %\n",
      "   Fold 6 accuracy: 75.00 %\n",
      "   Fold 7 accuracy: 47.37 %\n",
      "   Fold 8 accuracy: 78.95 %\n",
      "   Fold 9 accuracy: 89.47 %\n",
      "   Fold 10 accuracy: 84.21 %\n",
      "     Overall test accuracy: 76.02 %\n",
      "     Overall training accuracy: 100.00 %\n",
      "model  6 : Random Forest trees = 400\n",
      "   Fold 1 accuracy: 75.00 %\n",
      "   Fold 2 accuracy: 70.00 %\n",
      "   Fold 3 accuracy: 75.00 %\n",
      "   Fold 4 accuracy: 90.00 %\n",
      "   Fold 5 accuracy: 60.00 %\n",
      "   Fold 6 accuracy: 75.00 %\n",
      "   Fold 7 accuracy: 89.47 %\n",
      "   Fold 8 accuracy: 68.42 %\n",
      "   Fold 9 accuracy: 94.74 %\n",
      "   Fold 10 accuracy: 84.21 %\n",
      "     Overall test accuracy: 78.06 %\n",
      "     Overall training accuracy: 100.00 %\n",
      "model  7 : Random Forest trees = 500\n",
      "   Fold 1 accuracy: 80.00 %\n",
      "   Fold 2 accuracy: 70.00 %\n",
      "   Fold 3 accuracy: 70.00 %\n",
      "   Fold 4 accuracy: 65.00 %\n",
      "   Fold 5 accuracy: 60.00 %\n",
      "   Fold 6 accuracy: 80.00 %\n",
      "   Fold 7 accuracy: 94.74 %\n",
      "   Fold 8 accuracy: 78.95 %\n",
      "   Fold 9 accuracy: 84.21 %\n",
      "   Fold 10 accuracy: 68.42 %\n",
      "     Overall test accuracy: 75.00 %\n",
      "     Overall training accuracy: 100.00 %\n"
     ]
    }
   ],
   "source": [
    "model=0\n",
    "results = []\n",
    "cont = []\n",
    "kf = KFold(n_splits=10, shuffle=True)\n",
    "trees = [5, 10, 50, 100, 200, 300, 400, 500]\n",
    "for t in range(len(trees)):\n",
    "    fold = 1\n",
    "    truth = []\n",
    "    rf_prediction = []\n",
    "    print(\"model \", t, \": Random Forest trees = \" + str(trees[t]))\n",
    "    test_count = 0\n",
    "    rf = RandomForestClassifier(n_estimators=trees[t], criterion='entropy', n_jobs=-1, )\n",
    "    for train_idx, test_idx in kf.split(X):\n",
    "        trainX = X[train_idx]\n",
    "        trainY = Y[train_idx]\n",
    "        testX = X[test_idx]\n",
    "        testY = Y[test_idx]\n",
    "        truth.append(testY)\n",
    "        rf.fit(trainX, trainY)\n",
    "        Y_hat = rf.predict(testX)\n",
    "        rf_prediction.append(Y_hat)\n",
    "        print(\"   Fold %d accuracy: %.2f %%\" % (fold, ((np.sum(Y_hat == testY)/len(testY)) * 100.0)))                        \n",
    "        fold += 1\n",
    "    truth = np.concatenate(truth, axis=0)    \n",
    "    rf_prediction = np.concatenate(rf_prediction, axis=0)\n",
    "    test_results = np.sum(rf_prediction == truth)/len(truth)\n",
    "    print(\"     Overall test accuracy: %.2f %%\" % (test_results * 100))  \n",
    "    rf = rf.fit(X, Y)\n",
    "    Y_hat = rf.predict(X)\n",
    "    train_results = np.sum(Y_hat == Y)/len(Y)\n",
    "    print(\"     Overall training accuracy: %.2f %%\" % (train_results * 100.0))  \n",
    "    results.append([train_results, test_results])   \n",
    "    cont.append([truth, rf_prediction])"
   ]
  },
  {
   "cell_type": "code",
   "execution_count": 27,
   "metadata": {},
   "outputs": [
    {
     "name": "stdout",
     "output_type": "stream",
     "text": [
      "Enter Best Model: 6\n",
      "\n",
      "Random Forest\n",
      "         no  social  Total\n",
      "no       86      29    115\n",
      "social   14      67     81\n",
      "Total   100      96    196\n",
      "\n"
     ]
    }
   ],
   "source": [
    "model = input(\"Enter Best Model: \")\n",
    "best = cont[int(model)]\n",
    "rf_ct = pd.crosstab(best[1], best[0], margins=True)\n",
    "rf_ct.columns = [\"no\", \"social\", \"Total\"]\n",
    "rf_ct.index = [\"no\", \"social\", \"Total\"]\n",
    "print()\n",
    "print(\"Random Forest\")\n",
    "print(rf_ct)\n",
    "print()"
   ]
  },
  {
   "cell_type": "code",
   "execution_count": 28,
   "metadata": {},
   "outputs": [
    {
     "name": "stdout",
     "output_type": "stream",
     "text": [
      "Random Forest: Sensitivity: 0.69792 Specificity: 0.86000 PPV: 0.82716 NPV: 0.74783 Accuracy: 0.78061\n"
     ]
    }
   ],
   "source": [
    "Sens = rf_ct.iloc[1][1]/rf_ct.iloc[2][1]\n",
    "Spec = rf_ct.iloc[0][0]/rf_ct.iloc[2][0]\n",
    "PPV = rf_ct.iloc[1][1]/rf_ct.iloc[1][2]\n",
    "NPV = rf_ct.iloc[0][0]/rf_ct.iloc[0][2]\n",
    "ACC = (rf_ct.iloc[0][0] + rf_ct.iloc[1][1]) / rf_ct.iloc[2][2]\n",
    "print(\"Random Forest: Sensitivity: %.5f Specificity: %.5f PPV: %.5f NPV: %.5f Accuracy: %.5f\" % (Sens, Spec, PPV, NPV, ACC))"
   ]
  },
  {
   "cell_type": "code",
   "execution_count": 29,
   "metadata": {},
   "outputs": [
    {
     "name": "stdout",
     "output_type": "stream",
     "text": [
      "[[86 14]\n",
      " [29 67]]\n",
      "0.757062146893\n",
      "0.697916666667\n",
      "0.827160493827\n",
      "0.780612244898\n",
      "             precision    recall  f1-score   support\n",
      "\n",
      "          0       0.75      0.86      0.80       100\n",
      "          1       0.83      0.70      0.76        96\n",
      "\n",
      "avg / total       0.79      0.78      0.78       196\n",
      "\n"
     ]
    }
   ],
   "source": [
    "from sklearn.metrics import confusion_matrix\n",
    "from sklearn.metrics import recall_score,f1_score,precision_score,accuracy_score,classification_report\n",
    "y_true =cont[int(model)][0]\n",
    "y_pred = cont[int(model)][1]\n",
    "print(confusion_matrix(y_true, y_pred))\n",
    "print(f1_score(y_true, y_pred) )\n",
    "\n",
    "\n",
    "\n",
    "print(recall_score(y_true, y_pred),   )\n",
    "print(precision_score(y_true, y_pred))\n",
    "print(accuracy_score(y_true, y_pred))\n",
    "\n",
    "print(classification_report(y_true, y_pred))"
   ]
  },
  {
   "cell_type": "code",
   "execution_count": null,
   "metadata": {
    "collapsed": true
   },
   "outputs": [],
   "source": []
  },
  {
   "cell_type": "code",
   "execution_count": null,
   "metadata": {
    "collapsed": true
   },
   "outputs": [],
   "source": []
  },
  {
   "cell_type": "code",
   "execution_count": null,
   "metadata": {
    "collapsed": true
   },
   "outputs": [],
   "source": []
  }
 ],
 "metadata": {
  "kernelspec": {
   "display_name": "Python 3",
   "language": "python",
   "name": "python3"
  },
  "language_info": {
   "codemirror_mode": {
    "name": "ipython",
    "version": 3
   },
   "file_extension": ".py",
   "mimetype": "text/x-python",
   "name": "python",
   "nbconvert_exporter": "python",
   "pygments_lexer": "ipython3",
   "version": "3.6.3"
  }
 },
 "nbformat": 4,
 "nbformat_minor": 2
}
